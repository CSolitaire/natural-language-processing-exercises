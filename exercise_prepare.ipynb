{
 "cells": [
  {
   "cell_type": "markdown",
   "metadata": {},
   "source": [
    "## Prepare Exercise: NLP\n",
    "### Corey Solitaire\n",
    "`11.16.2020`"
   ]
  },
  {
   "cell_type": "markdown",
   "metadata": {},
   "source": [
    "Imports:"
   ]
  },
  {
   "cell_type": "code",
   "execution_count": 2,
   "metadata": {},
   "outputs": [],
   "source": [
    "import unicodedata\n",
    "import re\n",
    "import json\n",
    "\n",
    "import nltk\n",
    "from nltk.tokenize.toktok import ToktokTokenizer\n",
    "from nltk.corpus import stopwords\n",
    "\n",
    "import pandas as pd\n",
    "\n",
    "import acquire"
   ]
  },
  {
   "cell_type": "markdown",
   "metadata": {},
   "source": [
    "## Gameplan for Parsing Text Data:\n",
    "\n",
    "    1. Convert text to all lower case for normalcy.\n",
    "    2. Remove any accented characters, non-ASCII characters.\n",
    "    3. Remove special characters.\n",
    "    4. Stem or lemmatize the words.\n",
    "    5. Remove stopwords.\n",
    "    6. Store the clean text and the original text for use in future notebooks.\n"
   ]
  },
  {
   "cell_type": "markdown",
   "metadata": {},
   "source": [
    "#### Import Dataframe:"
   ]
  },
  {
   "cell_type": "code",
   "execution_count": 3,
   "metadata": {},
   "outputs": [
    {
     "data": {
      "text/plain": [
       "' In face of Joe Biden\\'s win, \\'Trump Nation\\' is confused, angry — but resigned | KellyMike KellyNorthJersey.comThey’re confused. They’re angry. They’re resigned and wondering how America can\\xa0heal its political wounds as a pandemic rages and the economy flounders.\\xa0Such is the state of “Trump Nation” after Donald Trump.Since the spring of 2017 — just 100 days after Trump stepped into the White House — I’ve chronicled, along with photojournalist Chris Pedota, the hopes, fears and ordinary lives of Trump voters in a series of communities stretching from New Jersey to Ohio.\\xa0Our goal was simple — to listen to those who voted for Trump. Why did they look to an untested reality TV star, billionaire and failed casino mogul — who proclaimed himself a master dealmaker — to be their political savior?I’ve walked with a dejected high school football coach along the rusty train line tracks that run by an empty steel mill on the Ohio River. I’ve stood next to mounds of bituminous coal in the bucolic hills of southwest Pennsylvania as thick-muscled miners wondered about their futures. I’ve sat with an opioid addict in a poor hamlet in West Virginia, a clockmaker in Vermont, a widow in Westchester who opposes abortion. I’ve stood on a wind-swept, rainy beach with a real estate agent on a Jersey shore barrier island that will likely be swamped in the coming decades by rising ocean levels.All were ardent Trump supporters. But all are in various stages of shock now as they try to make sense of Trump’s defeat in the Nov. 3 election.Normally a presidential election does not call for this sort of emotional autopsy. But this year is different.America was deeply cleaved before more than 150 million of us voted — a record turnout\\xa0that could exceed 66% percent when all ballots are counted. Nearly 78 million supported Democratic President-Elect Joe Biden, the highest in U.S. history. Another 73 million cast ballots for Trump, the second highest tally.\\xa0But the nation remains divided, with Trump refusing to concede defeat and legions of his supporters claiming he was cheated out of victory because of the widespread use of mail-in balloting to curtail the spread of COVID-19 from in-person voting.\\xa0A Politico/Morning Consult poll this week found that 70% of Republicans felt the election was not “free and fair,” while 90 % of Democrats felt it was just fine.Such stark chasms between Republicans and Democrats is worrisome, experts say. America has long depended on credible elections to preserve calm in tumultuous times. Think back to the Civil War. Or Watergate.\\xa0Or even 2000, when less than 600 votes — barely the difference in some borough council races in New Jersey — separated Democrat Al Gore and Republican George W. Bush in their race for the White House.\\'He didn\\'t lose\\'Now the distrust seems much deeper — perhaps more permanent.“I don’t think Trump lost it,” said Elizabeth “Betsy” Hower, a Gettysburg, Pennsylvania, Republican activist and substitute teacher. “I think the ballots, when we count them, will show he didn’t lose.”Like many on both sides of the political fence, Hower now wonders how America\\xa0can come together amid so much discord. Her ancestors fought for the Union at the battle of Gettysburg during the Civil War — another deeply divisive time in American history. She fears that another sort of civil war is afoot.“I think it’s exceedingly sad that our nation is so divided,” Hower said. “We used to be nice to each other.\\xa0It’s not like that anymore.”In Keyser, West Virginia, a poor, coal mining hamlet near the border of Maryland and Pennsylvania, Gary Howell, a Republican member of the state House of Delegates, predicted that America will be split for years to come because citizens\\xa0feel Trump was unfairly blocked from winning a second term.“I believe there was substantial election fraud,” Howell said.Howell conceded that he could not cite any credible evidence of voting irregularities. But he nonetheless believes that substantial chicanery occurred, especially in Pennsylvania and Georgia — two states that Biden won.“You have too many people — myself — who no longer trust elections,” Howell said. “And I’m an elected official.”\\'He was just a jerk at times\\'Stephen Reid, a former mayor of Point Pleasant Beach, lobbyist and a longtime moderate Republican in the mold of former governors Tom Kean Sr. and Christine Todd Whitman, represents another segment of Trump supporters.\\xa0He voted for Trump — but not enthusiastically.Reid praised Trump for jump-starting America’s economy and the ensuing rise in the stock market. But he disliked Trump’s chaotic leadership and put-down Twitter messages.“He was just a jerk at times,” Reid said of Trump. “Was Donald Trump the perfect Republican?\\xa0Absolutely\\xa0no way. When you hear a president talking down to people, it’s not good. His way of doing things was not the way I would do things. Everyone who pulled the switch for Trump basically held their nose. They liked the way things were going.\\xa0But they were basically sick of the tweets.\"Still Reid marveled at Trump’s ability to energize Republicans.\\xa0“I’ve never seen people come out like that for Donald Trump,” Reid said. “I don’t think I’ll see it ever again.”Many Trump supporters felt that the president would have coasted to victory if not for his botched handling of the COVID-19 pandemic.The spread of COVID-19 “factored uniquely and exclusively” in the election, said M. Jane Brady, the chairwoman of the Delaware Republican party.But Brady, a former Delaware attorney general and state superior court judge, does not blame Trump for not formulating a consistent policy to fight the virus. She blames scientists like Dr. Anthony Fauci, the noted immunologist who runs the National Institute of Allergy and Infectious Diseases for what she believes to be “mixed messages” in the early weeks of the pandemic.The result, said Brady, was a faltering economy and a rising death toll from the virus. When it came time for the election, Trump “couldn’t win the argument” that his COVID-19 policies were effective.“COVID was the problem,” Brady said. “Trump took his legacy on the economy and compromised it.”In Vermont, Kolby LaMarche, a gay freshman at Champlain College, was so distraught over what he felt was Trump’s inconsistent leadership in battling COVID-19 that he ended up voting for Biden.LaMarche, a former supporter of Vermont’s socialist U.S. Sen. Bernie Sanders, declared his allegiance for Trump last fall and was elected to lead the Republican Club in the stridently progressive city of Burlington. After the COVID-19 crisis, LaMarche says he became increasingly distressed that Trump was not capable of confronting the virus\\' impact on the nation’s health.The turning point, LaMarche said, was Trump’s suggestion in April that the virus might be treated by injecting disinfectants into the body. LaMarche also said he became disenchanted by Trump’s refusal to criticize neo-Nazi groups and support African Americans’ allegations of police brutality after the deaths of George Floyd in Minneapolis and Breonna Taylor in Louisville.LaMarche said he joined the Lincoln Project, a group of anti-Trump Republicans that included George Conway, the husband of Trump White House advisor Kellyanne Conway, who supported Biden.\\xa0“I did a self-reflection and came to the point where I can’t support this president,” LaMarche said. He added that he is “still a Republican” but he is hopeful for Biden’s success.“I don’t support everything that Biden stands for,” LaMarche said, “but I like that we have a president who cares about the country.”In Somers, a rural enclave on the northern edge of New York’s Westchester County, Rosalie Cicogna, was also not happy with Trump’s inconsistent leadership during the COVID-19 pandemic. But she voted for Trump anyway, largely because she was pleased with his economic policies. She also felt Democrats had become far too progressive, especially on such social issues as abortion.“Look at the economy. It was great,” said Cicogna, a widow, former chair of her community’s Republican Club and a staunch anti-abortion critic. “Then COVID hit. Trump did a lot of good for the country. By the same token, the guy could have cured cancer and the mainstream media would have never reported it.”But Cicogna conceded that Trump’s blunt speaking style and constant putdowns of opponents became a problem, especially with suburban women.2017 Trump series:100 days later: Road trip through a divided nation2018 Trump series:Divided: A road Trip Through Trump\\'s America2019 Trump series:We\\'re on the road again talking about Trump. Here are 8 takeaways2020 Trump series:America divided, but in search of common ground“The guy stepped on his tongue too many times,” Cicogna.\\xa0 “People just got fed up.”Joseph Yannuzzi of Hazleton, Pennsylvania, agreed.“He lost because of his personality,” said Yannuzzi, a former Republican mayor of Hazleton and staunch Trump supporter. “It was abrasive and rubbed people the wrong way.”In Mingo Junction, Ohio, Domenic Chappano,\\xa0a grocery store owner who once worked in the town’s now-shuttered steel mill, also felt that Trump’s style hurt him.“You know what killed him?\\xa0His mouth. Had he been compassionate or a little bit more understanding toward COVID, it would have been a landslide victory for him,” Chappano said. “But he was always giving that nonsense that we’re ‘rounding the curve.’ He was always boasting.”Dietmar Panzig said he no longer flies a Trump flag at his home in Magnolia, Delaware.\\xa0“Sometimes his mouth outran his brain,” Panzig said, adding that as he watched Trump at televised rallies during the campaign he found himself saying: “Donald shut up. You made your point in the first sentence.”“The Biden campaign was effective in defining the race in terms of Donald Trump’s personality,” said John McCann, an attorney and Oakland, New Jersey, a Republican.McCann\\xa0lost his bid in his party’s primary to challenge incumbent Democratic Rep. Josh Gottheimer whose congressional district stretches across northern New Jersey, from the Hudson to the Delaware rivers. McCann said he voted for Trump, largely because he supported the president’s economic policies.\\xa0But McCann found himself cringing at Trump’s increasing belligerence.“This race was not about what Trump did,” McCann said. “It was about his personality. Trump was defending his personality and not touting his accomplishments.”In Mantoloking, the tiny Jersey Shore barrier island enclave that is staunchly Republican, Lawrence “Lance” White noticed more Biden signs on the front lawns of homes this year.\\xa0White, a real estate agent, former Wall Street trader and now his town’s mayor, concedes that he voted for Trump but nonetheless “grew so tired” of the president’s confrontational ways. He now feels that many other former Trump supporters may have switched their support to Biden for the same reason.“The vitriol, the anger, the insults,” White said. “I’m a gentleman. My kids are gentle people as are a lot of the people in this town.’Like many in Mantoloking with investment portfolios, White said he was delighted at the economic gains under Trump. But when the economy faltered amid the COVID-19 pandemic, Trump himself became an issue, especially the president’s constant stream of put-downs of critics.\\xa0“You’re supposed to maintain your dignity, and Donald Trump just didn’t do it,” White said. “After a while, it just got really old.”White ended up voting for Trump. But he wasn’t shocked that Trump lost. Now, as the election results settle in, White has resigned himself to a presidency under Joe Biden.“At the end of the day,” White said, “I probably am comfortable that Biden won.”Mike Kelly is an award-winning columnist for NorthJersey.com. To get unlimited access to his insightful thoughts on how we live life in New Jersey,\\xa0please subscribe or activate your digital account today.Email:\\xa0kellym@northjersey.com\\xa0Twitter:\\xa0@mikekellycolumn\\xa0'"
      ]
     },
     "execution_count": 3,
     "metadata": {},
     "output_type": "execute_result"
    }
   ],
   "source": [
    "news = pd.read_json('news_articles.json')\n",
    "news = news.content[0]\n",
    "news"
   ]
  },
  {
   "cell_type": "markdown",
   "metadata": {},
   "source": [
    "## Exercises:"
   ]
  },
  {
   "cell_type": "markdown",
   "metadata": {},
   "source": [
    "### 1. Define a function named basic_clean. It should take in a string and apply some basic text cleaning to it:\n",
    "\n",
    "    - Lowercase everything\n",
    "    - Normalize unicode characters\n",
    "    - Replace anything that is not a letter, number, whitespace or a single quote."
   ]
  },
  {
   "cell_type": "code",
   "execution_count": null,
   "metadata": {},
   "outputs": [],
   "source": []
  },
  {
   "cell_type": "markdown",
   "metadata": {},
   "source": [
    "### 2. Define a function named tokenize. It should take in a string and tokenize all the words in the string."
   ]
  },
  {
   "cell_type": "code",
   "execution_count": null,
   "metadata": {},
   "outputs": [],
   "source": []
  },
  {
   "cell_type": "markdown",
   "metadata": {},
   "source": [
    "### 3. Define a function named stem. It should accept some text and return the text after applying stemming to all the words."
   ]
  },
  {
   "cell_type": "code",
   "execution_count": null,
   "metadata": {},
   "outputs": [],
   "source": []
  },
  {
   "cell_type": "markdown",
   "metadata": {},
   "source": [
    "### 4. Define a function named lemmatize. It should accept some text and return the text after applying lemmatization to each word."
   ]
  },
  {
   "cell_type": "code",
   "execution_count": null,
   "metadata": {},
   "outputs": [],
   "source": []
  },
  {
   "cell_type": "markdown",
   "metadata": {},
   "source": [
    "### 5. Define a function named remove_stopwords. It should accept some text and return the text after removing all the stopwords.\n",
    "    - This function should define two optional parameters, extra_words and exclude_words. These parameters should define any additional stop words to include, and any words that we don't want to remove."
   ]
  },
  {
   "cell_type": "code",
   "execution_count": null,
   "metadata": {},
   "outputs": [],
   "source": []
  },
  {
   "cell_type": "markdown",
   "metadata": {},
   "source": [
    "### 6. Define a function named prep_article that takes in the dictionary representing an article and returns a dictionary that looks like this:"
   ]
  },
  {
   "cell_type": "code",
   "execution_count": null,
   "metadata": {},
   "outputs": [],
   "source": []
  },
  {
   "cell_type": "markdown",
   "metadata": {},
   "source": [
    "### 7. Define a function named prepare_article_data that takes in the list of articles dictionaries, applies the prep_article function to each one, and returns the transformed data."
   ]
  },
  {
   "cell_type": "code",
   "execution_count": null,
   "metadata": {},
   "outputs": [],
   "source": []
  }
 ],
 "metadata": {
  "kernelspec": {
   "display_name": "Python 3",
   "language": "python",
   "name": "python3"
  },
  "language_info": {
   "codemirror_mode": {
    "name": "ipython",
    "version": 3
   },
   "file_extension": ".py",
   "mimetype": "text/x-python",
   "name": "python",
   "nbconvert_exporter": "python",
   "pygments_lexer": "ipython3",
   "version": "3.8.5"
  }
 },
 "nbformat": 4,
 "nbformat_minor": 4
}
