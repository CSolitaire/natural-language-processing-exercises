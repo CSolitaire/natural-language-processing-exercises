{
 "cells": [
  {
   "cell_type": "markdown",
   "metadata": {},
   "source": [
    "## Prepare Exercise: NLP\n",
    "### Corey Solitaire\n",
    "`11.16.2020`"
   ]
  },
  {
   "cell_type": "markdown",
   "metadata": {},
   "source": [
    "Imports:"
   ]
  },
  {
   "cell_type": "code",
   "execution_count": 1,
   "metadata": {},
   "outputs": [
    {
     "name": "stderr",
     "output_type": "stream",
     "text": [
      "[nltk_data] Downloading package stopwords to\n",
      "[nltk_data]     /Users/coreysolitaire/nltk_data...\n",
      "[nltk_data]   Package stopwords is already up-to-date!\n"
     ]
    },
    {
     "data": {
      "text/plain": [
       "True"
      ]
     },
     "execution_count": 1,
     "metadata": {},
     "output_type": "execute_result"
    }
   ],
   "source": [
    "import unicodedata\n",
    "import re\n",
    "import json\n",
    "\n",
    "import nltk\n",
    "from nltk.tokenize.toktok import ToktokTokenizer\n",
    "from nltk.corpus import stopwords\n",
    "\n",
    "import pandas as pd\n",
    "\n",
    "import acquire\n",
    "\n",
    "import nltk\n",
    "nltk.download('stopwords')"
   ]
  },
  {
   "cell_type": "markdown",
   "metadata": {},
   "source": [
    "## Gameplan for Parsing Text Data:\n",
    "\n",
    "    1. Convert text to all lower case for normalcy.\n",
    "    2. Remove any accented characters, non-ASCII characters.\n",
    "    3. Remove special characters.\n",
    "    4. Stem or lemmatize the words.\n",
    "    5. Remove stopwords.\n",
    "    6. Store the clean text and the original text for use in future notebooks.\n"
   ]
  },
  {
   "cell_type": "markdown",
   "metadata": {},
   "source": [
    "#### Import Dataframe:"
   ]
  },
  {
   "cell_type": "code",
   "execution_count": 2,
   "metadata": {},
   "outputs": [
    {
     "data": {
      "text/plain": [
       "' In face of Joe Biden\\'s win, \\'Trump Nation\\' is confused, angry — but resigned | KellyMike KellyNorthJersey.comThey’re confused. They’re angry. They’re resigned and wondering how America can\\xa0heal its political wounds as a pandemic rages and the economy flounders.\\xa0Such is the state of “Trump Nation” after Donald Trump.Since the spring of 2017 — just 100 days after Trump stepped into the White House — I’ve chronicled, along with photojournalist Chris Pedota, the hopes, fears and ordinary lives of Trump voters in a series of communities stretching from New Jersey to Ohio.\\xa0Our goal was simple — to listen to those who voted for Trump. Why did they look to an untested reality TV star, billionaire and failed casino mogul — who proclaimed himself a master dealmaker — to be their political savior?I’ve walked with a dejected high school football coach along the rusty train line tracks that run by an empty steel mill on the Ohio River. I’ve stood next to mounds of bituminous coal in the bucolic hills of southwest Pennsylvania as thick-muscled miners wondered about their futures. I’ve sat with an opioid addict in a poor hamlet in West Virginia, a clockmaker in Vermont, a widow in Westchester who opposes abortion. I’ve stood on a wind-swept, rainy beach with a real estate agent on a Jersey shore barrier island that will likely be swamped in the coming decades by rising ocean levels.All were ardent Trump supporters. But all are in various stages of shock now as they try to make sense of Trump’s defeat in the Nov. 3 election.Normally a presidential election does not call for this sort of emotional autopsy. But this year is different.America was deeply cleaved before more than 150 million of us voted — a record turnout\\xa0that could exceed 66% percent when all ballots are counted. Nearly 78 million supported Democratic President-Elect Joe Biden, the highest in U.S. history. Another 73 million cast ballots for Trump, the second highest tally.\\xa0But the nation remains divided, with Trump refusing to concede defeat and legions of his supporters claiming he was cheated out of victory because of the widespread use of mail-in balloting to curtail the spread of COVID-19 from in-person voting.\\xa0A Politico/Morning Consult poll this week found that 70% of Republicans felt the election was not “free and fair,” while 90 % of Democrats felt it was just fine.Such stark chasms between Republicans and Democrats is worrisome, experts say. America has long depended on credible elections to preserve calm in tumultuous times. Think back to the Civil War. Or Watergate.\\xa0Or even 2000, when less than 600 votes — barely the difference in some borough council races in New Jersey — separated Democrat Al Gore and Republican George W. Bush in their race for the White House.\\'He didn\\'t lose\\'Now the distrust seems much deeper — perhaps more permanent.“I don’t think Trump lost it,” said Elizabeth “Betsy” Hower, a Gettysburg, Pennsylvania, Republican activist and substitute teacher. “I think the ballots, when we count them, will show he didn’t lose.”Like many on both sides of the political fence, Hower now wonders how America\\xa0can come together amid so much discord. Her ancestors fought for the Union at the battle of Gettysburg during the Civil War — another deeply divisive time in American history. She fears that another sort of civil war is afoot.“I think it’s exceedingly sad that our nation is so divided,” Hower said. “We used to be nice to each other.\\xa0It’s not like that anymore.”In Keyser, West Virginia, a poor, coal mining hamlet near the border of Maryland and Pennsylvania, Gary Howell, a Republican member of the state House of Delegates, predicted that America will be split for years to come because citizens\\xa0feel Trump was unfairly blocked from winning a second term.“I believe there was substantial election fraud,” Howell said.Howell conceded that he could not cite any credible evidence of voting irregularities. But he nonetheless believes that substantial chicanery occurred, especially in Pennsylvania and Georgia — two states that Biden won.“You have too many people — myself — who no longer trust elections,” Howell said. “And I’m an elected official.”\\'He was just a jerk at times\\'Stephen Reid, a former mayor of Point Pleasant Beach, lobbyist and a longtime moderate Republican in the mold of former governors Tom Kean Sr. and Christine Todd Whitman, represents another segment of Trump supporters.\\xa0He voted for Trump — but not enthusiastically.Reid praised Trump for jump-starting America’s economy and the ensuing rise in the stock market. But he disliked Trump’s chaotic leadership and put-down Twitter messages.“He was just a jerk at times,” Reid said of Trump. “Was Donald Trump the perfect Republican?\\xa0Absolutely\\xa0no way. When you hear a president talking down to people, it’s not good. His way of doing things was not the way I would do things. Everyone who pulled the switch for Trump basically held their nose. They liked the way things were going.\\xa0But they were basically sick of the tweets.\"Still Reid marveled at Trump’s ability to energize Republicans.\\xa0“I’ve never seen people come out like that for Donald Trump,” Reid said. “I don’t think I’ll see it ever again.”Many Trump supporters felt that the president would have coasted to victory if not for his botched handling of the COVID-19 pandemic.The spread of COVID-19 “factored uniquely and exclusively” in the election, said M. Jane Brady, the chairwoman of the Delaware Republican party.But Brady, a former Delaware attorney general and state superior court judge, does not blame Trump for not formulating a consistent policy to fight the virus. She blames scientists like Dr. Anthony Fauci, the noted immunologist who runs the National Institute of Allergy and Infectious Diseases for what she believes to be “mixed messages” in the early weeks of the pandemic.The result, said Brady, was a faltering economy and a rising death toll from the virus. When it came time for the election, Trump “couldn’t win the argument” that his COVID-19 policies were effective.“COVID was the problem,” Brady said. “Trump took his legacy on the economy and compromised it.”In Vermont, Kolby LaMarche, a gay freshman at Champlain College, was so distraught over what he felt was Trump’s inconsistent leadership in battling COVID-19 that he ended up voting for Biden.LaMarche, a former supporter of Vermont’s socialist U.S. Sen. Bernie Sanders, declared his allegiance for Trump last fall and was elected to lead the Republican Club in the stridently progressive city of Burlington. After the COVID-19 crisis, LaMarche says he became increasingly distressed that Trump was not capable of confronting the virus\\' impact on the nation’s health.The turning point, LaMarche said, was Trump’s suggestion in April that the virus might be treated by injecting disinfectants into the body. LaMarche also said he became disenchanted by Trump’s refusal to criticize neo-Nazi groups and support African Americans’ allegations of police brutality after the deaths of George Floyd in Minneapolis and Breonna Taylor in Louisville.LaMarche said he joined the Lincoln Project, a group of anti-Trump Republicans that included George Conway, the husband of Trump White House advisor Kellyanne Conway, who supported Biden.\\xa0“I did a self-reflection and came to the point where I can’t support this president,” LaMarche said. He added that he is “still a Republican” but he is hopeful for Biden’s success.“I don’t support everything that Biden stands for,” LaMarche said, “but I like that we have a president who cares about the country.”In Somers, a rural enclave on the northern edge of New York’s Westchester County, Rosalie Cicogna, was also not happy with Trump’s inconsistent leadership during the COVID-19 pandemic. But she voted for Trump anyway, largely because she was pleased with his economic policies. She also felt Democrats had become far too progressive, especially on such social issues as abortion.“Look at the economy. It was great,” said Cicogna, a widow, former chair of her community’s Republican Club and a staunch anti-abortion critic. “Then COVID hit. Trump did a lot of good for the country. By the same token, the guy could have cured cancer and the mainstream media would have never reported it.”But Cicogna conceded that Trump’s blunt speaking style and constant putdowns of opponents became a problem, especially with suburban women.2017 Trump series:100 days later: Road trip through a divided nation2018 Trump series:Divided: A road Trip Through Trump\\'s America2019 Trump series:We\\'re on the road again talking about Trump. Here are 8 takeaways2020 Trump series:America divided, but in search of common ground“The guy stepped on his tongue too many times,” Cicogna.\\xa0 “People just got fed up.”Joseph Yannuzzi of Hazleton, Pennsylvania, agreed.“He lost because of his personality,” said Yannuzzi, a former Republican mayor of Hazleton and staunch Trump supporter. “It was abrasive and rubbed people the wrong way.”In Mingo Junction, Ohio, Domenic Chappano,\\xa0a grocery store owner who once worked in the town’s now-shuttered steel mill, also felt that Trump’s style hurt him.“You know what killed him?\\xa0His mouth. Had he been compassionate or a little bit more understanding toward COVID, it would have been a landslide victory for him,” Chappano said. “But he was always giving that nonsense that we’re ‘rounding the curve.’ He was always boasting.”Dietmar Panzig said he no longer flies a Trump flag at his home in Magnolia, Delaware.\\xa0“Sometimes his mouth outran his brain,” Panzig said, adding that as he watched Trump at televised rallies during the campaign he found himself saying: “Donald shut up. You made your point in the first sentence.”“The Biden campaign was effective in defining the race in terms of Donald Trump’s personality,” said John McCann, an attorney and Oakland, New Jersey, a Republican.McCann\\xa0lost his bid in his party’s primary to challenge incumbent Democratic Rep. Josh Gottheimer whose congressional district stretches across northern New Jersey, from the Hudson to the Delaware rivers. McCann said he voted for Trump, largely because he supported the president’s economic policies.\\xa0But McCann found himself cringing at Trump’s increasing belligerence.“This race was not about what Trump did,” McCann said. “It was about his personality. Trump was defending his personality and not touting his accomplishments.”In Mantoloking, the tiny Jersey Shore barrier island enclave that is staunchly Republican, Lawrence “Lance” White noticed more Biden signs on the front lawns of homes this year.\\xa0White, a real estate agent, former Wall Street trader and now his town’s mayor, concedes that he voted for Trump but nonetheless “grew so tired” of the president’s confrontational ways. He now feels that many other former Trump supporters may have switched their support to Biden for the same reason.“The vitriol, the anger, the insults,” White said. “I’m a gentleman. My kids are gentle people as are a lot of the people in this town.’Like many in Mantoloking with investment portfolios, White said he was delighted at the economic gains under Trump. But when the economy faltered amid the COVID-19 pandemic, Trump himself became an issue, especially the president’s constant stream of put-downs of critics.\\xa0“You’re supposed to maintain your dignity, and Donald Trump just didn’t do it,” White said. “After a while, it just got really old.”White ended up voting for Trump. But he wasn’t shocked that Trump lost. Now, as the election results settle in, White has resigned himself to a presidency under Joe Biden.“At the end of the day,” White said, “I probably am comfortable that Biden won.”Mike Kelly is an award-winning columnist for NorthJersey.com. To get unlimited access to his insightful thoughts on how we live life in New Jersey,\\xa0please subscribe or activate your digital account today.Email:\\xa0kellym@northjersey.com\\xa0Twitter:\\xa0@mikekellycolumn\\xa0'"
      ]
     },
     "execution_count": 2,
     "metadata": {},
     "output_type": "execute_result"
    }
   ],
   "source": [
    "news = pd.read_json('news_articles.json')\n",
    "original = news.content[0]\n",
    "original"
   ]
  },
  {
   "cell_type": "markdown",
   "metadata": {},
   "source": [
    "## Exercises:"
   ]
  },
  {
   "cell_type": "markdown",
   "metadata": {},
   "source": [
    "### 1. Define a function named basic_clean. It should take in a string and apply some basic text cleaning to it:\n",
    "\n",
    "    - Lowercase everything\n",
    "    - Normalize unicode characters\n",
    "    - Replace anything that is not a letter, number, whitespace or a single quote."
   ]
  },
  {
   "cell_type": "code",
   "execution_count": 3,
   "metadata": {},
   "outputs": [],
   "source": [
    "def basic_clean(df):\n",
    "    df = df.lower()\n",
    "    df = unicodedata.normalize('NFKD', df)\\\n",
    "        .encode('ascii', 'ignore')\\\n",
    "        .decode('utf-8', 'ignore')\n",
    "    basic_clean = re.sub(r\"[^a-z0-9'\\s]\", '', df)\n",
    "    return basic_clean"
   ]
  },
  {
   "cell_type": "code",
   "execution_count": 4,
   "metadata": {},
   "outputs": [
    {
     "data": {
      "text/plain": [
       "\" in face of joe biden's win 'trump nation' is confused angry  but resigned  kellymike kellynorthjerseycomtheyre confused theyre angry theyre resigned and wondering how america can heal its political wounds as a pandemic rages and the economy flounders such is the state of trump nation after donald trumpsince the spring of 2017  just 100 days after trump stepped into the white house  ive chronicled along with photojournalist chris pedota the hopes fears and ordinary lives of trump voters in a series of communities stretching from new jersey to ohio our goal was simple  to listen to those who voted for trump why did they look to an untested reality tv star billionaire and failed casino mogul  who proclaimed himself a master dealmaker  to be their political saviorive walked with a dejected high school football coach along the rusty train line tracks that run by an empty steel mill on the ohio river ive stood next to mounds of bituminous coal in the bucolic hills of southwest pennsylvania as thickmuscled miners wondered about their futures ive sat with an opioid addict in a poor hamlet in west virginia a clockmaker in vermont a widow in westchester who opposes abortion ive stood on a windswept rainy beach with a real estate agent on a jersey shore barrier island that will likely be swamped in the coming decades by rising ocean levelsall were ardent trump supporters but all are in various stages of shock now as they try to make sense of trumps defeat in the nov 3 electionnormally a presidential election does not call for this sort of emotional autopsy but this year is differentamerica was deeply cleaved before more than 150 million of us voted  a record turnout that could exceed 66 percent when all ballots are counted nearly 78 million supported democratic presidentelect joe biden the highest in us history another 73 million cast ballots for trump the second highest tally but the nation remains divided with trump refusing to concede defeat and legions of his supporters claiming he was cheated out of victory because of the widespread use of mailin balloting to curtail the spread of covid19 from inperson voting a politicomorning consult poll this week found that 70 of republicans felt the election was not free and fair while 90  of democrats felt it was just finesuch stark chasms between republicans and democrats is worrisome experts say america has long depended on credible elections to preserve calm in tumultuous times think back to the civil war or watergate or even 2000 when less than 600 votes  barely the difference in some borough council races in new jersey  separated democrat al gore and republican george w bush in their race for the white house'he didn't lose'now the distrust seems much deeper  perhaps more permanenti dont think trump lost it said elizabeth betsy hower a gettysburg pennsylvania republican activist and substitute teacher i think the ballots when we count them will show he didnt loselike many on both sides of the political fence hower now wonders how america can come together amid so much discord her ancestors fought for the union at the battle of gettysburg during the civil war  another deeply divisive time in american history she fears that another sort of civil war is afooti think its exceedingly sad that our nation is so divided hower said we used to be nice to each other its not like that anymorein keyser west virginia a poor coal mining hamlet near the border of maryland and pennsylvania gary howell a republican member of the state house of delegates predicted that america will be split for years to come because citizens feel trump was unfairly blocked from winning a second termi believe there was substantial election fraud howell saidhowell conceded that he could not cite any credible evidence of voting irregularities but he nonetheless believes that substantial chicanery occurred especially in pennsylvania and georgia  two states that biden wonyou have too many people  myself  who no longer trust elections howell said and im an elected official'he was just a jerk at times'stephen reid a former mayor of point pleasant beach lobbyist and a longtime moderate republican in the mold of former governors tom kean sr and christine todd whitman represents another segment of trump supporters he voted for trump  but not enthusiasticallyreid praised trump for jumpstarting americas economy and the ensuing rise in the stock market but he disliked trumps chaotic leadership and putdown twitter messageshe was just a jerk at times reid said of trump was donald trump the perfect republican absolutely no way when you hear a president talking down to people its not good his way of doing things was not the way i would do things everyone who pulled the switch for trump basically held their nose they liked the way things were going but they were basically sick of the tweetsstill reid marveled at trumps ability to energize republicans ive never seen people come out like that for donald trump reid said i dont think ill see it ever againmany trump supporters felt that the president would have coasted to victory if not for his botched handling of the covid19 pandemicthe spread of covid19 factored uniquely and exclusively in the election said m jane brady the chairwoman of the delaware republican partybut brady a former delaware attorney general and state superior court judge does not blame trump for not formulating a consistent policy to fight the virus she blames scientists like dr anthony fauci the noted immunologist who runs the national institute of allergy and infectious diseases for what she believes to be mixed messages in the early weeks of the pandemicthe result said brady was a faltering economy and a rising death toll from the virus when it came time for the election trump couldnt win the argument that his covid19 policies were effectivecovid was the problem brady said trump took his legacy on the economy and compromised itin vermont kolby lamarche a gay freshman at champlain college was so distraught over what he felt was trumps inconsistent leadership in battling covid19 that he ended up voting for bidenlamarche a former supporter of vermonts socialist us sen bernie sanders declared his allegiance for trump last fall and was elected to lead the republican club in the stridently progressive city of burlington after the covid19 crisis lamarche says he became increasingly distressed that trump was not capable of confronting the virus' impact on the nations healththe turning point lamarche said was trumps suggestion in april that the virus might be treated by injecting disinfectants into the body lamarche also said he became disenchanted by trumps refusal to criticize neonazi groups and support african americans allegations of police brutality after the deaths of george floyd in minneapolis and breonna taylor in louisvillelamarche said he joined the lincoln project a group of antitrump republicans that included george conway the husband of trump white house advisor kellyanne conway who supported biden i did a selfreflection and came to the point where i cant support this president lamarche said he added that he is still a republican but he is hopeful for bidens successi dont support everything that biden stands for lamarche said but i like that we have a president who cares about the countryin somers a rural enclave on the northern edge of new yorks westchester county rosalie cicogna was also not happy with trumps inconsistent leadership during the covid19 pandemic but she voted for trump anyway largely because she was pleased with his economic policies she also felt democrats had become far too progressive especially on such social issues as abortionlook at the economy it was great said cicogna a widow former chair of her communitys republican club and a staunch antiabortion critic then covid hit trump did a lot of good for the country by the same token the guy could have cured cancer and the mainstream media would have never reported itbut cicogna conceded that trumps blunt speaking style and constant putdowns of opponents became a problem especially with suburban women2017 trump series100 days later road trip through a divided nation2018 trump seriesdivided a road trip through trump's america2019 trump serieswe're on the road again talking about trump here are 8 takeaways2020 trump seriesamerica divided but in search of common groundthe guy stepped on his tongue too many times cicogna  people just got fed upjoseph yannuzzi of hazleton pennsylvania agreedhe lost because of his personality said yannuzzi a former republican mayor of hazleton and staunch trump supporter it was abrasive and rubbed people the wrong wayin mingo junction ohio domenic chappano a grocery store owner who once worked in the towns nowshuttered steel mill also felt that trumps style hurt himyou know what killed him his mouth had he been compassionate or a little bit more understanding toward covid it would have been a landslide victory for him chappano said but he was always giving that nonsense that were rounding the curve he was always boastingdietmar panzig said he no longer flies a trump flag at his home in magnolia delaware sometimes his mouth outran his brain panzig said adding that as he watched trump at televised rallies during the campaign he found himself saying donald shut up you made your point in the first sentencethe biden campaign was effective in defining the race in terms of donald trumps personality said john mccann an attorney and oakland new jersey a republicanmccann lost his bid in his partys primary to challenge incumbent democratic rep josh gottheimer whose congressional district stretches across northern new jersey from the hudson to the delaware rivers mccann said he voted for trump largely because he supported the presidents economic policies but mccann found himself cringing at trumps increasing belligerencethis race was not about what trump did mccann said it was about his personality trump was defending his personality and not touting his accomplishmentsin mantoloking the tiny jersey shore barrier island enclave that is staunchly republican lawrence lance white noticed more biden signs on the front lawns of homes this year white a real estate agent former wall street trader and now his towns mayor concedes that he voted for trump but nonetheless grew so tired of the presidents confrontational ways he now feels that many other former trump supporters may have switched their support to biden for the same reasonthe vitriol the anger the insults white said im a gentleman my kids are gentle people as are a lot of the people in this townlike many in mantoloking with investment portfolios white said he was delighted at the economic gains under trump but when the economy faltered amid the covid19 pandemic trump himself became an issue especially the presidents constant stream of putdowns of critics youre supposed to maintain your dignity and donald trump just didnt do it white said after a while it just got really oldwhite ended up voting for trump but he wasnt shocked that trump lost now as the election results settle in white has resigned himself to a presidency under joe bidenat the end of the day white said i probably am comfortable that biden wonmike kelly is an awardwinning columnist for northjerseycom to get unlimited access to his insightful thoughts on how we live life in new jersey please subscribe or activate your digital account todayemail kellymnorthjerseycom twitter mikekellycolumn \""
      ]
     },
     "execution_count": 4,
     "metadata": {},
     "output_type": "execute_result"
    }
   ],
   "source": [
    "basic_clean = basic_clean(original)\n",
    "basic_clean"
   ]
  },
  {
   "cell_type": "markdown",
   "metadata": {},
   "source": [
    "### 2. Define a function named tokenize. It should take in a string and tokenize all the words in the string."
   ]
  },
  {
   "cell_type": "code",
   "execution_count": 5,
   "metadata": {},
   "outputs": [],
   "source": [
    "def tokenize(df):\n",
    "    tokenizer = nltk.tokenize.ToktokTokenizer()\n",
    "    return tokenizer.tokenize(df, return_str=True)"
   ]
  },
  {
   "cell_type": "code",
   "execution_count": 6,
   "metadata": {},
   "outputs": [
    {
     "data": {
      "text/plain": [
       "\"in face of joe biden ' s win ' trump nation ' is confused angry but resigned kellymike kellynorthjerseycomtheyre confused theyre angry theyre resigned and wondering how america can heal its political wounds as a pandemic rages and the economy flounders such is the state of trump nation after donald trumpsince the spring of 2017 just 100 days after trump stepped into the white house ive chronicled along with photojournalist chris pedota the hopes fears and ordinary lives of trump voters in a series of communities stretching from new jersey to ohio our goal was simple to listen to those who voted for trump why did they look to an untested reality tv star billionaire and failed casino mogul who proclaimed himself a master dealmaker to be their political saviorive walked with a dejected high school football coach along the rusty train line tracks that run by an empty steel mill on the ohio river ive stood next to mounds of bituminous coal in the bucolic hills of southwest pennsylvania as thickmuscled miners wondered about their futures ive sat with an opioid addict in a poor hamlet in west virginia a clockmaker in vermont a widow in westchester who opposes abortion ive stood on a windswept rainy beach with a real estate agent on a jersey shore barrier island that will likely be swamped in the coming decades by rising ocean levelsall were ardent trump supporters but all are in various stages of shock now as they try to make sense of trumps defeat in the nov 3 electionnormally a presidential election does not call for this sort of emotional autopsy but this year is differentamerica was deeply cleaved before more than 150 million of us voted a record turnout that could exceed 66 percent when all ballots are counted nearly 78 million supported democratic presidentelect joe biden the highest in us history another 73 million cast ballots for trump the second highest tally but the nation remains divided with trump refusing to concede defeat and legions of his supporters claiming he was cheated out of victory because of the widespread use of mailin balloting to curtail the spread of covid19 from inperson voting a politicomorning consult poll this week found that 70 of republicans felt the election was not free and fair while 90 of democrats felt it was just finesuch stark chasms between republicans and democrats is worrisome experts say america has long depended on credible elections to preserve calm in tumultuous times think back to the civil war or watergate or even 2000 when less than 600 votes barely the difference in some borough council races in new jersey separated democrat al gore and republican george w bush in their race for the white house ' he didn ' t lose ' now the distrust seems much deeper perhaps more permanenti dont think trump lost it said elizabeth betsy hower a gettysburg pennsylvania republican activist and substitute teacher i think the ballots when we count them will show he didnt loselike many on both sides of the political fence hower now wonders how america can come together amid so much discord her ancestors fought for the union at the battle of gettysburg during the civil war another deeply divisive time in american history she fears that another sort of civil war is afooti think its exceedingly sad that our nation is so divided hower said we used to be nice to each other its not like that anymorein keyser west virginia a poor coal mining hamlet near the border of maryland and pennsylvania gary howell a republican member of the state house of delegates predicted that america will be split for years to come because citizens feel trump was unfairly blocked from winning a second termi believe there was substantial election fraud howell saidhowell conceded that he could not cite any credible evidence of voting irregularities but he nonetheless believes that substantial chicanery occurred especially in pennsylvania and georgia two states that biden wonyou have too many people myself who no longer trust elections howell said and im an elected official ' he was just a jerk at times ' stephen reid a former mayor of point pleasant beach lobbyist and a longtime moderate republican in the mold of former governors tom kean sr and christine todd whitman represents another segment of trump supporters he voted for trump but not enthusiasticallyreid praised trump for jumpstarting americas economy and the ensuing rise in the stock market but he disliked trumps chaotic leadership and putdown twitter messageshe was just a jerk at times reid said of trump was donald trump the perfect republican absolutely no way when you hear a president talking down to people its not good his way of doing things was not the way i would do things everyone who pulled the switch for trump basically held their nose they liked the way things were going but they were basically sick of the tweetsstill reid marveled at trumps ability to energize republicans ive never seen people come out like that for donald trump reid said i dont think ill see it ever againmany trump supporters felt that the president would have coasted to victory if not for his botched handling of the covid19 pandemicthe spread of covid19 factored uniquely and exclusively in the election said m jane brady the chairwoman of the delaware republican partybut brady a former delaware attorney general and state superior court judge does not blame trump for not formulating a consistent policy to fight the virus she blames scientists like dr anthony fauci the noted immunologist who runs the national institute of allergy and infectious diseases for what she believes to be mixed messages in the early weeks of the pandemicthe result said brady was a faltering economy and a rising death toll from the virus when it came time for the election trump couldnt win the argument that his covid19 policies were effectivecovid was the problem brady said trump took his legacy on the economy and compromised itin vermont kolby lamarche a gay freshman at champlain college was so distraught over what he felt was trumps inconsistent leadership in battling covid19 that he ended up voting for bidenlamarche a former supporter of vermonts socialist us sen bernie sanders declared his allegiance for trump last fall and was elected to lead the republican club in the stridently progressive city of burlington after the covid19 crisis lamarche says he became increasingly distressed that trump was not capable of confronting the virus ' impact on the nations healththe turning point lamarche said was trumps suggestion in april that the virus might be treated by injecting disinfectants into the body lamarche also said he became disenchanted by trumps refusal to criticize neonazi groups and support african americans allegations of police brutality after the deaths of george floyd in minneapolis and breonna taylor in louisvillelamarche said he joined the lincoln project a group of antitrump republicans that included george conway the husband of trump white house advisor kellyanne conway who supported biden i did a selfreflection and came to the point where i cant support this president lamarche said he added that he is still a republican but he is hopeful for bidens successi dont support everything that biden stands for lamarche said but i like that we have a president who cares about the countryin somers a rural enclave on the northern edge of new yorks westchester county rosalie cicogna was also not happy with trumps inconsistent leadership during the covid19 pandemic but she voted for trump anyway largely because she was pleased with his economic policies she also felt democrats had become far too progressive especially on such social issues as abortionlook at the economy it was great said cicogna a widow former chair of her communitys republican club and a staunch antiabortion critic then covid hit trump did a lot of good for the country by the same token the guy could have cured cancer and the mainstream media would have never reported itbut cicogna conceded that trumps blunt speaking style and constant putdowns of opponents became a problem especially with suburban women2017 trump series100 days later road trip through a divided nation2018 trump seriesdivided a road trip through trump ' s america2019 trump serieswe ' re on the road again talking about trump here are 8 takeaways2020 trump seriesamerica divided but in search of common groundthe guy stepped on his tongue too many times cicogna people just got fed upjoseph yannuzzi of hazleton pennsylvania agreedhe lost because of his personality said yannuzzi a former republican mayor of hazleton and staunch trump supporter it was abrasive and rubbed people the wrong wayin mingo junction ohio domenic chappano a grocery store owner who once worked in the towns nowshuttered steel mill also felt that trumps style hurt himyou know what killed him his mouth had he been compassionate or a little bit more understanding toward covid it would have been a landslide victory for him chappano said but he was always giving that nonsense that were rounding the curve he was always boastingdietmar panzig said he no longer flies a trump flag at his home in magnolia delaware sometimes his mouth outran his brain panzig said adding that as he watched trump at televised rallies during the campaign he found himself saying donald shut up you made your point in the first sentencethe biden campaign was effective in defining the race in terms of donald trumps personality said john mccann an attorney and oakland new jersey a republicanmccann lost his bid in his partys primary to challenge incumbent democratic rep josh gottheimer whose congressional district stretches across northern new jersey from the hudson to the delaware rivers mccann said he voted for trump largely because he supported the presidents economic policies but mccann found himself cringing at trumps increasing belligerencethis race was not about what trump did mccann said it was about his personality trump was defending his personality and not touting his accomplishmentsin mantoloking the tiny jersey shore barrier island enclave that is staunchly republican lawrence lance white noticed more biden signs on the front lawns of homes this year white a real estate agent former wall street trader and now his towns mayor concedes that he voted for trump but nonetheless grew so tired of the presidents confrontational ways he now feels that many other former trump supporters may have switched their support to biden for the same reasonthe vitriol the anger the insults white said im a gentleman my kids are gentle people as are a lot of the people in this townlike many in mantoloking with investment portfolios white said he was delighted at the economic gains under trump but when the economy faltered amid the covid19 pandemic trump himself became an issue especially the presidents constant stream of putdowns of critics youre supposed to maintain your dignity and donald trump just didnt do it white said after a while it just got really oldwhite ended up voting for trump but he wasnt shocked that trump lost now as the election results settle in white has resigned himself to a presidency under joe bidenat the end of the day white said i probably am comfortable that biden wonmike kelly is an awardwinning columnist for northjerseycom to get unlimited access to his insightful thoughts on how we live life in new jersey please subscribe or activate your digital account todayemail kellymnorthjerseycom twitter mikekellycolumn\""
      ]
     },
     "execution_count": 6,
     "metadata": {},
     "output_type": "execute_result"
    }
   ],
   "source": [
    "token = tokenize(basic_clean)\n",
    "token"
   ]
  },
  {
   "cell_type": "markdown",
   "metadata": {},
   "source": [
    "### 3. Define a function named stem. It should accept some text and return the text after applying stemming to all the words."
   ]
  },
  {
   "cell_type": "code",
   "execution_count": 7,
   "metadata": {},
   "outputs": [],
   "source": [
    "def stem(df):\n",
    "    ps = nltk.porter.PorterStemmer()\n",
    "    stems = [ps.stem(word) for word in df.split()]\n",
    "    article_stemmed = ' '.join(stems)\n",
    "    return article_stemmed"
   ]
  },
  {
   "cell_type": "code",
   "execution_count": 8,
   "metadata": {},
   "outputs": [
    {
     "data": {
      "text/plain": [
       "\"in face of joe biden ' s win ' trump nation ' is confus angri but resign kellymik kellynorthjerseycomtheyr confus theyr angri theyr resign and wonder how america can heal it polit wound as a pandem rage and the economi flounder such is the state of trump nation after donald trumpsinc the spring of 2017 just 100 day after trump step into the white hous ive chronicl along with photojournalist chri pedota the hope fear and ordinari live of trump voter in a seri of commun stretch from new jersey to ohio our goal wa simpl to listen to those who vote for trump whi did they look to an untest realiti tv star billionair and fail casino mogul who proclaim himself a master dealmak to be their polit savior walk with a deject high school footbal coach along the rusti train line track that run by an empti steel mill on the ohio river ive stood next to mound of bitumin coal in the bucol hill of southwest pennsylvania as thickmuscl miner wonder about their futur ive sat with an opioid addict in a poor hamlet in west virginia a clockmak in vermont a widow in westchest who oppos abort ive stood on a windswept raini beach with a real estat agent on a jersey shore barrier island that will like be swamp in the come decad by rise ocean levelsal were ardent trump support but all are in variou stage of shock now as they tri to make sens of trump defeat in the nov 3 electionnorm a presidenti elect doe not call for thi sort of emot autopsi but thi year is differentamerica wa deepli cleav befor more than 150 million of us vote a record turnout that could exceed 66 percent when all ballot are count nearli 78 million support democrat presidentelect joe biden the highest in us histori anoth 73 million cast ballot for trump the second highest talli but the nation remain divid with trump refus to conced defeat and legion of hi support claim he wa cheat out of victori becaus of the widespread use of mailin ballot to curtail the spread of covid19 from inperson vote a politicomorn consult poll thi week found that 70 of republican felt the elect wa not free and fair while 90 of democrat felt it wa just finesuch stark chasm between republican and democrat is worrisom expert say america ha long depend on credibl elect to preserv calm in tumultu time think back to the civil war or waterg or even 2000 when less than 600 vote bare the differ in some borough council race in new jersey separ democrat al gore and republican georg w bush in their race for the white hous ' he didn ' t lose ' now the distrust seem much deeper perhap more permanenti dont think trump lost it said elizabeth betsi hower a gettysburg pennsylvania republican activist and substitut teacher i think the ballot when we count them will show he didnt loselik mani on both side of the polit fenc hower now wonder how america can come togeth amid so much discord her ancestor fought for the union at the battl of gettysburg dure the civil war anoth deepli divis time in american histori she fear that anoth sort of civil war is afooti think it exceedingli sad that our nation is so divid hower said we use to be nice to each other it not like that anymorein keyser west virginia a poor coal mine hamlet near the border of maryland and pennsylvania gari howel a republican member of the state hous of deleg predict that america will be split for year to come becaus citizen feel trump wa unfairli block from win a second termi believ there wa substanti elect fraud howel saidhowel conced that he could not cite ani credibl evid of vote irregular but he nonetheless believ that substanti chicaneri occur especi in pennsylvania and georgia two state that biden wonyou have too mani peopl myself who no longer trust elect howel said and im an elect offici ' he wa just a jerk at time ' stephen reid a former mayor of point pleasant beach lobbyist and a longtim moder republican in the mold of former governor tom kean sr and christin todd whitman repres anoth segment of trump support he vote for trump but not enthusiasticallyreid prais trump for jumpstart america economi and the ensu rise in the stock market but he dislik trump chaotic leadership and putdown twitter messagesh wa just a jerk at time reid said of trump wa donald trump the perfect republican absolut no way when you hear a presid talk down to peopl it not good hi way of do thing wa not the way i would do thing everyon who pull the switch for trump basic held their nose they like the way thing were go but they were basic sick of the tweetsstil reid marvel at trump abil to energ republican ive never seen peopl come out like that for donald trump reid said i dont think ill see it ever againmani trump support felt that the presid would have coast to victori if not for hi botch handl of the covid19 pandemicth spread of covid19 factor uniqu and exclus in the elect said m jane bradi the chairwoman of the delawar republican partybut bradi a former delawar attorney gener and state superior court judg doe not blame trump for not formul a consist polici to fight the viru she blame scientist like dr anthoni fauci the note immunologist who run the nation institut of allergi and infecti diseas for what she believ to be mix messag in the earli week of the pandemicth result said bradi wa a falter economi and a rise death toll from the viru when it came time for the elect trump couldnt win the argument that hi covid19 polici were effectivecovid wa the problem bradi said trump took hi legaci on the economi and compromis itin vermont kolbi lamarch a gay freshman at champlain colleg wa so distraught over what he felt wa trump inconsist leadership in battl covid19 that he end up vote for bidenlamarch a former support of vermont socialist us sen berni sander declar hi allegi for trump last fall and wa elect to lead the republican club in the strident progress citi of burlington after the covid19 crisi lamarch say he becam increasingli distress that trump wa not capabl of confront the viru ' impact on the nation healthth turn point lamarch said wa trump suggest in april that the viru might be treat by inject disinfect into the bodi lamarch also said he becam disench by trump refus to critic neonazi group and support african american alleg of polic brutal after the death of georg floyd in minneapoli and breonna taylor in louisvillelamarch said he join the lincoln project a group of antitrump republican that includ georg conway the husband of trump white hous advisor kellyann conway who support biden i did a selfreflect and came to the point where i cant support thi presid lamarch said he ad that he is still a republican but he is hope for biden successi dont support everyth that biden stand for lamarch said but i like that we have a presid who care about the countryin somer a rural enclav on the northern edg of new york westchest counti rosali cicogna wa also not happi with trump inconsist leadership dure the covid19 pandem but she vote for trump anyway larg becaus she wa pleas with hi econom polici she also felt democrat had becom far too progress especi on such social issu as abortionlook at the economi it wa great said cicogna a widow former chair of her commun republican club and a staunch antiabort critic then covid hit trump did a lot of good for the countri by the same token the guy could have cure cancer and the mainstream media would have never report itbut cicogna conced that trump blunt speak style and constant putdown of oppon becam a problem especi with suburban women2017 trump series100 day later road trip through a divid nation2018 trump seriesdivid a road trip through trump ' s america2019 trump seriesw ' re on the road again talk about trump here are 8 takeaways2020 trump seriesamerica divid but in search of common groundth guy step on hi tongu too mani time cicogna peopl just got fed upjoseph yannuzzi of hazleton pennsylvania agreedh lost becaus of hi person said yannuzzi a former republican mayor of hazleton and staunch trump support it wa abras and rub peopl the wrong wayin mingo junction ohio domen chappano a groceri store owner who onc work in the town nowshutt steel mill also felt that trump style hurt himyou know what kill him hi mouth had he been compassion or a littl bit more understand toward covid it would have been a landslid victori for him chappano said but he wa alway give that nonsens that were round the curv he wa alway boastingdietmar panzig said he no longer fli a trump flag at hi home in magnolia delawar sometim hi mouth outran hi brain panzig said ad that as he watch trump at televis ralli dure the campaign he found himself say donald shut up you made your point in the first sentenceth biden campaign wa effect in defin the race in term of donald trump person said john mccann an attorney and oakland new jersey a republicanmccann lost hi bid in hi parti primari to challeng incumb democrat rep josh gottheim whose congression district stretch across northern new jersey from the hudson to the delawar river mccann said he vote for trump larg becaus he support the presid econom polici but mccann found himself cring at trump increas belligerencethi race wa not about what trump did mccann said it wa about hi person trump wa defend hi person and not tout hi accomplishmentsin mantolok the tini jersey shore barrier island enclav that is staunchli republican lawrenc lanc white notic more biden sign on the front lawn of home thi year white a real estat agent former wall street trader and now hi town mayor conced that he vote for trump but nonetheless grew so tire of the presid confront way he now feel that mani other former trump support may have switch their support to biden for the same reasonth vitriol the anger the insult white said im a gentleman my kid are gentl peopl as are a lot of the peopl in thi townlik mani in mantolok with invest portfolio white said he wa delight at the econom gain under trump but when the economi falter amid the covid19 pandem trump himself becam an issu especi the presid constant stream of putdown of critic your suppos to maintain your digniti and donald trump just didnt do it white said after a while it just got realli oldwhit end up vote for trump but he wasnt shock that trump lost now as the elect result settl in white ha resign himself to a presid under joe bidenat the end of the day white said i probabl am comfort that biden wonmik kelli is an awardwin columnist for northjerseycom to get unlimit access to hi insight thought on how we live life in new jersey pleas subscrib or activ your digit account todayemail kellymnorthjerseycom twitter mikekellycolumn\""
      ]
     },
     "execution_count": 8,
     "metadata": {},
     "output_type": "execute_result"
    }
   ],
   "source": [
    "article_stemmed = stem(token)\n",
    "article_stemmed"
   ]
  },
  {
   "cell_type": "markdown",
   "metadata": {},
   "source": [
    "#### Sanity Check:"
   ]
  },
  {
   "cell_type": "code",
   "execution_count": 9,
   "metadata": {},
   "outputs": [
    {
     "data": {
      "text/plain": [
       "the      93\n",
       "of       58\n",
       "trump    56\n",
       "a        50\n",
       "in       37\n",
       "and      34\n",
       "that     31\n",
       "wa       29\n",
       "to       29\n",
       "he       28\n",
       "dtype: int64"
      ]
     },
     "execution_count": 9,
     "metadata": {},
     "output_type": "execute_result"
    }
   ],
   "source": [
    "ps = nltk.porter.PorterStemmer()\n",
    "stems = [ps.stem(word) for word in token.split()]\n",
    "pd.Series(stems).value_counts().head(10)"
   ]
  },
  {
   "cell_type": "markdown",
   "metadata": {},
   "source": [
    "### 4. Define a function named lemmatize. It should accept some text and return the text after applying lemmatization to each word."
   ]
  },
  {
   "cell_type": "code",
   "execution_count": 10,
   "metadata": {},
   "outputs": [],
   "source": [
    "def lemmatize(df):\n",
    "    wnl = nltk.stem.WordNetLemmatizer()\n",
    "    lemmas = [wnl.lemmatize(word) for word in df.split()]\n",
    "    article_lemmatized = ' '.join(lemmas)\n",
    "    return article_lemmatized"
   ]
  },
  {
   "cell_type": "code",
   "execution_count": 11,
   "metadata": {},
   "outputs": [
    {
     "data": {
      "text/plain": [
       "\"in face of joe biden ' s win ' trump nation ' is confus angri but resign kellymik kellynorthjerseycomtheyr confus theyr angri theyr resign and wonder how america can heal it polit wound a a pandem rage and the economi flounder such is the state of trump nation after donald trumpsinc the spring of 2017 just 100 day after trump step into the white hous ive chronicl along with photojournalist chri pedota the hope fear and ordinari live of trump voter in a seri of commun stretch from new jersey to ohio our goal wa simpl to listen to those who vote for trump whi did they look to an untest realiti tv star billionair and fail casino mogul who proclaim himself a master dealmak to be their polit savior walk with a deject high school footbal coach along the rusti train line track that run by an empti steel mill on the ohio river ive stood next to mound of bitumin coal in the bucol hill of southwest pennsylvania a thickmuscl miner wonder about their futur ive sat with an opioid addict in a poor hamlet in west virginia a clockmak in vermont a widow in westchest who oppos abort ive stood on a windswept raini beach with a real estat agent on a jersey shore barrier island that will like be swamp in the come decad by rise ocean levelsal were ardent trump support but all are in variou stage of shock now a they tri to make sen of trump defeat in the nov 3 electionnorm a presidenti elect doe not call for thi sort of emot autopsi but thi year is differentamerica wa deepli cleav befor more than 150 million of u vote a record turnout that could exceed 66 percent when all ballot are count nearli 78 million support democrat presidentelect joe biden the highest in u histori anoth 73 million cast ballot for trump the second highest talli but the nation remain divid with trump refus to conced defeat and legion of hi support claim he wa cheat out of victori becaus of the widespread use of mailin ballot to curtail the spread of covid19 from inperson vote a politicomorn consult poll thi week found that 70 of republican felt the elect wa not free and fair while 90 of democrat felt it wa just finesuch stark chasm between republican and democrat is worrisom expert say america ha long depend on credibl elect to preserv calm in tumultu time think back to the civil war or waterg or even 2000 when le than 600 vote bare the differ in some borough council race in new jersey separ democrat al gore and republican georg w bush in their race for the white hous ' he didn ' t lose ' now the distrust seem much deeper perhap more permanenti dont think trump lost it said elizabeth betsi hower a gettysburg pennsylvania republican activist and substitut teacher i think the ballot when we count them will show he didnt loselik mani on both side of the polit fenc hower now wonder how america can come togeth amid so much discord her ancestor fought for the union at the battl of gettysburg dure the civil war anoth deepli divis time in american histori she fear that anoth sort of civil war is afooti think it exceedingli sad that our nation is so divid hower said we use to be nice to each other it not like that anymorein keyser west virginia a poor coal mine hamlet near the border of maryland and pennsylvania gari howel a republican member of the state hous of deleg predict that america will be split for year to come becaus citizen feel trump wa unfairli block from win a second termi believ there wa substanti elect fraud howel saidhowel conced that he could not cite ani credibl evid of vote irregular but he nonetheless believ that substanti chicaneri occur especi in pennsylvania and georgia two state that biden wonyou have too mani peopl myself who no longer trust elect howel said and im an elect offici ' he wa just a jerk at time ' stephen reid a former mayor of point pleasant beach lobbyist and a longtim moder republican in the mold of former governor tom kean sr and christin todd whitman repres anoth segment of trump support he vote for trump but not enthusiasticallyreid prais trump for jumpstart america economi and the ensu rise in the stock market but he dislik trump chaotic leadership and putdown twitter messagesh wa just a jerk at time reid said of trump wa donald trump the perfect republican absolut no way when you hear a presid talk down to peopl it not good hi way of do thing wa not the way i would do thing everyon who pull the switch for trump basic held their nose they like the way thing were go but they were basic sick of the tweetsstil reid marvel at trump abil to energ republican ive never seen peopl come out like that for donald trump reid said i dont think ill see it ever againmani trump support felt that the presid would have coast to victori if not for hi botch handl of the covid19 pandemicth spread of covid19 factor uniqu and exclus in the elect said m jane bradi the chairwoman of the delawar republican partybut bradi a former delawar attorney gener and state superior court judg doe not blame trump for not formul a consist polici to fight the viru she blame scientist like dr anthoni fauci the note immunologist who run the nation institut of allergi and infecti diseas for what she believ to be mix messag in the earli week of the pandemicth result said bradi wa a falter economi and a rise death toll from the viru when it came time for the elect trump couldnt win the argument that hi covid19 polici were effectivecovid wa the problem bradi said trump took hi legaci on the economi and compromis itin vermont kolbi lamarch a gay freshman at champlain colleg wa so distraught over what he felt wa trump inconsist leadership in battl covid19 that he end up vote for bidenlamarch a former support of vermont socialist u sen berni sander declar hi allegi for trump last fall and wa elect to lead the republican club in the strident progress citi of burlington after the covid19 crisi lamarch say he becam increasingli distress that trump wa not capabl of confront the viru ' impact on the nation healthth turn point lamarch said wa trump suggest in april that the viru might be treat by inject disinfect into the bodi lamarch also said he becam disench by trump refus to critic neonazi group and support african american alleg of polic brutal after the death of georg floyd in minneapoli and breonna taylor in louisvillelamarch said he join the lincoln project a group of antitrump republican that includ georg conway the husband of trump white hous advisor kellyann conway who support biden i did a selfreflect and came to the point where i cant support thi presid lamarch said he ad that he is still a republican but he is hope for biden successi dont support everyth that biden stand for lamarch said but i like that we have a presid who care about the countryin somer a rural enclav on the northern edg of new york westchest counti rosali cicogna wa also not happi with trump inconsist leadership dure the covid19 pandem but she vote for trump anyway larg becaus she wa plea with hi econom polici she also felt democrat had becom far too progress especi on such social issu a abortionlook at the economi it wa great said cicogna a widow former chair of her commun republican club and a staunch antiabort critic then covid hit trump did a lot of good for the countri by the same token the guy could have cure cancer and the mainstream medium would have never report itbut cicogna conced that trump blunt speak style and constant putdown of oppon becam a problem especi with suburban women2017 trump series100 day later road trip through a divid nation2018 trump seriesdivid a road trip through trump ' s america2019 trump seriesw ' re on the road again talk about trump here are 8 takeaways2020 trump seriesamerica divid but in search of common groundth guy step on hi tongu too mani time cicogna peopl just got fed upjoseph yannuzzi of hazleton pennsylvania agreedh lost becaus of hi person said yannuzzi a former republican mayor of hazleton and staunch trump support it wa abras and rub peopl the wrong wayin mingo junction ohio domen chappano a groceri store owner who onc work in the town nowshutt steel mill also felt that trump style hurt himyou know what kill him hi mouth had he been compassion or a littl bit more understand toward covid it would have been a landslid victori for him chappano said but he wa alway give that nonsens that were round the curv he wa alway boastingdietmar panzig said he no longer fli a trump flag at hi home in magnolia delawar sometim hi mouth outran hi brain panzig said ad that a he watch trump at televis ralli dure the campaign he found himself say donald shut up you made your point in the first sentenceth biden campaign wa effect in defin the race in term of donald trump person said john mccann an attorney and oakland new jersey a republicanmccann lost hi bid in hi parti primari to challeng incumb democrat rep josh gottheim whose congression district stretch across northern new jersey from the hudson to the delawar river mccann said he vote for trump larg becaus he support the presid econom polici but mccann found himself cring at trump increas belligerencethi race wa not about what trump did mccann said it wa about hi person trump wa defend hi person and not tout hi accomplishmentsin mantolok the tini jersey shore barrier island enclav that is staunchli republican lawrenc lanc white notic more biden sign on the front lawn of home thi year white a real estat agent former wall street trader and now hi town mayor conced that he vote for trump but nonetheless grew so tire of the presid confront way he now feel that mani other former trump support may have switch their support to biden for the same reasonth vitriol the anger the insult white said im a gentleman my kid are gentl peopl a are a lot of the peopl in thi townlik mani in mantolok with invest portfolio white said he wa delight at the econom gain under trump but when the economi falter amid the covid19 pandem trump himself becam an issu especi the presid constant stream of putdown of critic your suppos to maintain your digniti and donald trump just didnt do it white said after a while it just got realli oldwhit end up vote for trump but he wasnt shock that trump lost now a the elect result settl in white ha resign himself to a presid under joe bidenat the end of the day white said i probabl am comfort that biden wonmik kelli is an awardwin columnist for northjerseycom to get unlimit access to hi insight thought on how we live life in new jersey plea subscrib or activ your digit account todayemail kellymnorthjerseycom twitter mikekellycolumn\""
      ]
     },
     "execution_count": 11,
     "metadata": {},
     "output_type": "execute_result"
    }
   ],
   "source": [
    "article_lemmatized = lemmatize(article_stemmed)\n",
    "article_lemmatized"
   ]
  },
  {
   "cell_type": "markdown",
   "metadata": {},
   "source": [
    "#### Sanity Check"
   ]
  },
  {
   "cell_type": "code",
   "execution_count": 12,
   "metadata": {},
   "outputs": [
    {
     "data": {
      "text/plain": [
       "the      93\n",
       "of       58\n",
       "a        57\n",
       "trump    56\n",
       "in       37\n",
       "and      34\n",
       "that     31\n",
       "to       29\n",
       "wa       29\n",
       "he       28\n",
       "dtype: int64"
      ]
     },
     "execution_count": 12,
     "metadata": {},
     "output_type": "execute_result"
    }
   ],
   "source": [
    "wnl = nltk.stem.WordNetLemmatizer()\n",
    "lemmas = [wnl.lemmatize(word) for word in article_stemmed.split()]\n",
    "pd.Series(lemmas).value_counts()[:10]"
   ]
  },
  {
   "cell_type": "markdown",
   "metadata": {},
   "source": [
    "### 5. Define a function named remove_stopwords. It should accept some text and return the text after removing all the stopwords.\n",
    "    - This function should define two optional parameters, extra_words and exclude_words. These parameters should define any additional stop words to include, and any words that we don't want to remove."
   ]
  },
  {
   "cell_type": "code",
   "execution_count": 13,
   "metadata": {},
   "outputs": [],
   "source": [
    "def remove_stopwords(df):\n",
    "    stopword_list = stopwords.words('english')\n",
    "    #stopword_list.remove('no')\n",
    "    #stopword_list.remove('not')\n",
    "    words = df.split()\n",
    "    filtered_words = [w for w in words if w not in stopword_list]\n",
    "\n",
    "    print('Removed {} stopwords'.format(len(words) - len(filtered_words)))\n",
    "    print('---')\n",
    "\n",
    "    article_without_stopwords = ' '.join(filtered_words)\n",
    "\n",
    "    return article_without_stopwords"
   ]
  },
  {
   "cell_type": "code",
   "execution_count": 14,
   "metadata": {},
   "outputs": [
    {
     "name": "stdout",
     "output_type": "stream",
     "text": [
      "Removed 688 stopwords\n",
      "---\n"
     ]
    },
    {
     "data": {
      "text/plain": [
       "\"face joe biden ' win ' trump nation ' confus angri resign kellymik kellynorthjerseycomtheyr confus theyr angri theyr resign wonder america heal polit wound pandem rage economi flounder state trump nation donald trumpsinc spring 2017 100 day trump step white hous ive chronicl along photojournalist chri pedota hope fear ordinari live trump voter seri commun stretch new jersey ohio goal wa simpl listen vote trump whi look untest realiti tv star billionair fail casino mogul proclaim master dealmak polit savior walk deject high school footbal coach along rusti train line track run empti steel mill ohio river ive stood next mound bitumin coal bucol hill southwest pennsylvania thickmuscl miner wonder futur ive sat opioid addict poor hamlet west virginia clockmak vermont widow westchest oppos abort ive stood windswept raini beach real estat agent jersey shore barrier island like swamp come decad rise ocean levelsal ardent trump support variou stage shock tri make sen trump defeat nov 3 electionnorm presidenti elect doe call thi sort emot autopsi thi year differentamerica wa deepli cleav befor 150 million u vote record turnout could exceed 66 percent ballot count nearli 78 million support democrat presidentelect joe biden highest u histori anoth 73 million cast ballot trump second highest talli nation remain divid trump refus conced defeat legion hi support claim wa cheat victori becaus widespread use mailin ballot curtail spread covid19 inperson vote politicomorn consult poll thi week found 70 republican felt elect wa free fair 90 democrat felt wa finesuch stark chasm republican democrat worrisom expert say america ha long depend credibl elect preserv calm tumultu time think back civil war waterg even 2000 le 600 vote bare differ borough council race new jersey separ democrat al gore republican georg w bush race white hous ' ' lose ' distrust seem much deeper perhap permanenti dont think trump lost said elizabeth betsi hower gettysburg pennsylvania republican activist substitut teacher think ballot count show didnt loselik mani side polit fenc hower wonder america come togeth amid much discord ancestor fought union battl gettysburg dure civil war anoth deepli divis time american histori fear anoth sort civil war afooti think exceedingli sad nation divid hower said use nice like anymorein keyser west virginia poor coal mine hamlet near border maryland pennsylvania gari howel republican member state hous deleg predict america split year come becaus citizen feel trump wa unfairli block win second termi believ wa substanti elect fraud howel saidhowel conced could cite ani credibl evid vote irregular nonetheless believ substanti chicaneri occur especi pennsylvania georgia two state biden wonyou mani peopl longer trust elect howel said im elect offici ' wa jerk time ' stephen reid former mayor point pleasant beach lobbyist longtim moder republican mold former governor tom kean sr christin todd whitman repres anoth segment trump support vote trump enthusiasticallyreid prais trump jumpstart america economi ensu rise stock market dislik trump chaotic leadership putdown twitter messagesh wa jerk time reid said trump wa donald trump perfect republican absolut way hear presid talk peopl good hi way thing wa way would thing everyon pull switch trump basic held nose like way thing go basic sick tweetsstil reid marvel trump abil energ republican ive never seen peopl come like donald trump reid said dont think ill see ever againmani trump support felt presid would coast victori hi botch handl covid19 pandemicth spread covid19 factor uniqu exclus elect said jane bradi chairwoman delawar republican partybut bradi former delawar attorney gener state superior court judg doe blame trump formul consist polici fight viru blame scientist like dr anthoni fauci note immunologist run nation institut allergi infecti diseas believ mix messag earli week pandemicth result said bradi wa falter economi rise death toll viru came time elect trump couldnt win argument hi covid19 polici effectivecovid wa problem bradi said trump took hi legaci economi compromis itin vermont kolbi lamarch gay freshman champlain colleg wa distraught felt wa trump inconsist leadership battl covid19 end vote bidenlamarch former support vermont socialist u sen berni sander declar hi allegi trump last fall wa elect lead republican club strident progress citi burlington covid19 crisi lamarch say becam increasingli distress trump wa capabl confront viru ' impact nation healthth turn point lamarch said wa trump suggest april viru might treat inject disinfect bodi lamarch also said becam disench trump refus critic neonazi group support african american alleg polic brutal death georg floyd minneapoli breonna taylor louisvillelamarch said join lincoln project group antitrump republican includ georg conway husband trump white hous advisor kellyann conway support biden selfreflect came point cant support thi presid lamarch said ad still republican hope biden successi dont support everyth biden stand lamarch said like presid care countryin somer rural enclav northern edg new york westchest counti rosali cicogna wa also happi trump inconsist leadership dure covid19 pandem vote trump anyway larg becaus wa plea hi econom polici also felt democrat becom far progress especi social issu abortionlook economi wa great said cicogna widow former chair commun republican club staunch antiabort critic covid hit trump lot good countri token guy could cure cancer mainstream medium would never report itbut cicogna conced trump blunt speak style constant putdown oppon becam problem especi suburban women2017 trump series100 day later road trip divid nation2018 trump seriesdivid road trip trump ' america2019 trump seriesw ' road talk trump 8 takeaways2020 trump seriesamerica divid search common groundth guy step hi tongu mani time cicogna peopl got fed upjoseph yannuzzi hazleton pennsylvania agreedh lost becaus hi person said yannuzzi former republican mayor hazleton staunch trump support wa abras rub peopl wrong wayin mingo junction ohio domen chappano groceri store owner onc work town nowshutt steel mill also felt trump style hurt himyou know kill hi mouth compassion littl bit understand toward covid would landslid victori chappano said wa alway give nonsens round curv wa alway boastingdietmar panzig said longer fli trump flag hi home magnolia delawar sometim hi mouth outran hi brain panzig said ad watch trump televis ralli dure campaign found say donald shut made point first sentenceth biden campaign wa effect defin race term donald trump person said john mccann attorney oakland new jersey republicanmccann lost hi bid hi parti primari challeng incumb democrat rep josh gottheim whose congression district stretch across northern new jersey hudson delawar river mccann said vote trump larg becaus support presid econom polici mccann found cring trump increas belligerencethi race wa trump mccann said wa hi person trump wa defend hi person tout hi accomplishmentsin mantolok tini jersey shore barrier island enclav staunchli republican lawrenc lanc white notic biden sign front lawn home thi year white real estat agent former wall street trader hi town mayor conced vote trump nonetheless grew tire presid confront way feel mani former trump support may switch support biden reasonth vitriol anger insult white said im gentleman kid gentl peopl lot peopl thi townlik mani mantolok invest portfolio white said wa delight econom gain trump economi falter amid covid19 pandem trump becam issu especi presid constant stream putdown critic suppos maintain digniti donald trump didnt white said got realli oldwhit end vote trump wasnt shock trump lost elect result settl white ha resign presid joe bidenat end day white said probabl comfort biden wonmik kelli awardwin columnist northjerseycom get unlimit access hi insight thought live life new jersey plea subscrib activ digit account todayemail kellymnorthjerseycom twitter mikekellycolumn\""
      ]
     },
     "execution_count": 14,
     "metadata": {},
     "output_type": "execute_result"
    }
   ],
   "source": [
    "article_without_stopwords = remove_stopwords(article_lemmatized)\n",
    "article_without_stopwords"
   ]
  },
  {
   "cell_type": "markdown",
   "metadata": {},
   "source": [
    "### 6. Define a function named prep_article that takes in the dictionary representing an article and returns a dictionary that looks like this:"
   ]
  },
  {
   "cell_type": "code",
   "execution_count": null,
   "metadata": {},
   "outputs": [],
   "source": []
  },
  {
   "cell_type": "markdown",
   "metadata": {},
   "source": [
    "### 7. Define a function named prepare_article_data that takes in the list of articles dictionaries, applies the prep_article function to each one, and returns the transformed data."
   ]
  },
  {
   "cell_type": "code",
   "execution_count": null,
   "metadata": {},
   "outputs": [],
   "source": []
  }
 ],
 "metadata": {
  "kernelspec": {
   "display_name": "Python 3",
   "language": "python",
   "name": "python3"
  },
  "language_info": {
   "codemirror_mode": {
    "name": "ipython",
    "version": 3
   },
   "file_extension": ".py",
   "mimetype": "text/x-python",
   "name": "python",
   "nbconvert_exporter": "python",
   "pygments_lexer": "ipython3",
   "version": "3.8.5"
  }
 },
 "nbformat": 4,
 "nbformat_minor": 4
}
