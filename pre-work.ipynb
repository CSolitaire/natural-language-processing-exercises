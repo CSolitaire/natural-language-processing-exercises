{
 "cells": [
  {
   "cell_type": "markdown",
   "metadata": {},
   "source": [
    "# Project Pre-Work"
   ]
  },
  {
   "cell_type": "code",
   "execution_count": 3,
   "metadata": {},
   "outputs": [],
   "source": [
    "import acquire\n",
    "\n",
    "from requests import get\n",
    "from bs4 import BeautifulSoup\n",
    "import os\n",
    "import pandas as pd"
   ]
  },
  {
   "cell_type": "markdown",
   "metadata": {},
   "source": [
    "## Explore github repo:\n",
    "1.  Need to identify programing language\n",
    "2.  Need to scrape text, and save as corpus"
   ]
  },
  {
   "cell_type": "code",
   "execution_count": 4,
   "metadata": {},
   "outputs": [],
   "source": [
    "#https://github.com/microsoft/Web-Dev-For-Beginners\n",
    "soup = acquire.make_soup('https://github.com/microsoft/Web-Dev-For-Beginners')"
   ]
  },
  {
   "cell_type": "code",
   "execution_count": 86,
   "metadata": {},
   "outputs": [
    {
     "data": {
      "text/plain": [
       "'Get startedOpen in app496K Followers·AboutFollowGet started'"
      ]
     },
     "execution_count": 86,
     "metadata": {},
     "output_type": "execute_result"
    }
   ],
   "source": [
    "#[4] - Text\n",
    "soup.select('div', class_ = \"d-inline-flex flex-items-center flex-nowrap link-gray no-underline text-small mr-3\")[5].text"
   ]
  },
  {
   "cell_type": "code",
   "execution_count": 49,
   "metadata": {},
   "outputs": [
    {
     "data": {
      "text/plain": [
       "'Latest commit'"
      ]
     },
     "execution_count": 49,
     "metadata": {},
     "output_type": "execute_result"
    }
   ],
   "source": [
    "soup.find('h2').text"
   ]
  },
  {
   "cell_type": "code",
   "execution_count": null,
   "metadata": {},
   "outputs": [],
   "source": [
    "<article class=\"markdown-body entry-content container-lg\" itemprop=\"text\"><h1><a id=\"user-content-web-development-for-beginners---a-curriculum\" class=\"anchor\" aria-hidden=\"true\" href=\"#web-development-for-beginners---a-curriculum\"><svg class=\"octicon octicon-link\" viewBox=\"0 0 16 16\" version=\"1.1\" width=\"16\" height=\"16\" aria-hidden=\"true\"><path fill-rule=\"evenodd\" d=\"M7.775 3.275a.75.75 0 001.06 1.06l1.25-1.25a2 2 0 112.83 2.83l-2.5 2.5a2 2 0 01-2.83 0 .75.75 0 00-1.06 1.06 3.5 3.5 0 004.95 0l2.5-2.5a3.5 3.5 0 00-4.95-4.95l-1.25 1.25zm-4.69 9.64a2 2 0 010-2.83l2.5-2.5a2 2 0 012.83 0 .75.75 0 001.06-1.06 3.5 3.5 0 00-4.95 0l-2.5 2.5a3.5 3.5 0 004.95 4.95l1.25-1.25a.75.75 0 00-1.06-1.06l-1.25 1.25a2 2 0 01-2.83 0z\"></path></svg></a>Web Development for Beginners - A Curriculum</h1>\n",
    "<p>Azure Cloud Advocates at Microsoft are pleased to offer a 12-week, 24-lesson curriculum all about JavaScript, CSS, and HTML basics. Each lesson includes pre- and post-lesson quizzes, written instructions to complete the lesson, a solution, an assignment and more. Our project-based pedagogy allows you to learn while building, a proven way for new skills to 'stick'.</p>\n",
    "<blockquote>\n",
    "<p>Teachers, we have <a href=\"/microsoft/Web-Dev-For-Beginners/blob/main/for-teachers.md\">included some suggestions</a> on how to use this curriculum. If you would like to create your own lessons, we have also included a <a href=\"/microsoft/Web-Dev-For-Beginners/blob/main/lesson-template/README.md\">lesson template</a></p>\n",
    "</blockquote>\n",
    "<p><a href=\"https://youtube.com/watch?v=R1wrdtmBSII\" title=\"Promo video\" rel=\"nofollow\"><img src=\"/microsoft/Web-Dev-For-Beginners/raw/main/screenshot.png\" alt=\"Promo video\" style=\"max-width:100%;\"></a></p>\n",
    "<blockquote>\n",
    "<p>Click the image above for a video about the project and the folks who created it!</p>\n",
    "</blockquote>\n",
    "<h2><a id=\"user-content-pedagogy\" class=\"anchor\" aria-hidden=\"true\" href=\"#pedagogy\"><svg class=\"octicon octicon-link\" viewBox=\"0 0 16 16\" version=\"1.1\" width=\"16\" height=\"16\" aria-hidden=\"true\"><path fill-rule=\"evenodd\" d=\"M7.775 3.275a.75.75 0 001.06 1.06l1.25-1.25a2 2 0 112.83 2.83l-2.5 2.5a2 2 0 01-2.83 0 .75.75 0 00-1.06 1.06 3.5 3.5 0 004.95 0l2.5-2.5a3.5 3.5 0 00-4.95-4.95l-1.25 1.25zm-4.69 9.64a2 2 0 010-2.83l2.5-2.5a2 2 0 012.83 0 .75.75 0 001.06-1.06 3.5 3.5 0 00-4.95 0l-2.5 2.5a3.5 3.5 0 004.95 4.95l1.25-1.25a.75.75 0 00-1.06-1.06l-1.25 1.25a2 2 0 01-2.83 0z\"></path></svg></a>Pedagogy</h2>\n",
    "<p>We have chosen two pedagogical tenets while building this curriculum: ensuring that it is project-based and that it includes frequent quizzes. By the end of this series, students will have built a typing game, a virtual terrarium, a 'green' browser extension, a 'space invaders' type game, and a business-type banking app, and will have learned the basics of JavaScript, HTML, and CSS along with the modern toolchain of today's web developer.</p>\n",
    "<p>By ensuring that the content aligns with projects, the process is made more engaging for students and retention of concepts will be augmented. We also wrote several starter lessons in JavaScript basics to introduce concepts, paired with video from the \"<a href=\"https://channel9.msdn.com/Series/Beginners-Series-to-JavaScript?WT.mc_id=cxaall-4621-cxall\" rel=\"nofollow\">Beginners Series to: JavaScript</a>\" collection of video tutorials, some of whose authors contributed to this curriculum.</p>\n",
    "<p>In addition, a low-stakes quiz before a class sets the intention of the student towards learning a topic, while a second quiz after class ensures further retention. This curriculum was designed to be flexible and fun and can be taken in whole or in part. The projects start small and become increasingly complex by the end of the 12 week cycle.</p>\n",
    "<p>While we have purposefully avoided introducing JavaScript frameworks so as to concentrate on the basic skills needed as a web developer before adopting a framework, a good next step to completing this curriculum would be learning about Node.js via another collection of videos: \"<a href=\"https://channel9.msdn.com/Series/Beginners-Series-to-Nodejs?WT.mc_id=cxaall-4621-cxall\" rel=\"nofollow\">Beginner Series to: Node.js</a>\".</p>\n",
    "<blockquote>\n",
    "<p>Find our <a href=\"/microsoft/Web-Dev-For-Beginners/blob/main/CODE_OF_CONDUCT.md\">Code of Conduct</a>, <a href=\"/microsoft/Web-Dev-For-Beginners/blob/main/CONTRIBUTING.md\">Contributing</a>, and <a href=\"/microsoft/Web-Dev-For-Beginners/blob/main/TRANSLATIONS.md\">Translation</a> guidelines. We welcome your constructive feedback!</p>\n",
    "</blockquote>\n",
    "<h2><a id=\"user-content-each-lesson-includes\" class=\"anchor\" aria-hidden=\"true\" href=\"#each-lesson-includes\"><svg class=\"octicon octicon-link\" viewBox=\"0 0 16 16\" version=\"1.1\" width=\"16\" height=\"16\" aria-hidden=\"true\"><path fill-rule=\"evenodd\" d=\"M7.775 3.275a.75.75 0 001.06 1.06l1.25-1.25a2 2 0 112.83 2.83l-2.5 2.5a2 2 0 01-2.83 0 .75.75 0 00-1.06 1.06 3.5 3.5 0 004.95 0l2.5-2.5a3.5 3.5 0 00-4.95-4.95l-1.25 1.25zm-4.69 9.64a2 2 0 010-2.83l2.5-2.5a2 2 0 012.83 0 .75.75 0 001.06-1.06 3.5 3.5 0 00-4.95 0l-2.5 2.5a3.5 3.5 0 004.95 4.95l1.25-1.25a.75.75 0 00-1.06-1.06l-1.25 1.25a2 2 0 01-2.83 0z\"></path></svg></a>Each lesson includes:</h2>\n",
    "<ul>\n",
    "<li>optional sketchnote</li>\n",
    "<li>optional supplemental video</li>\n",
    "<li>pre-lesson warmup quiz</li>\n",
    "<li>written lesson</li>\n",
    "<li>for project-based lessons, step-by-step guides on how to build the project</li>\n",
    "<li>knowledge checks</li>\n",
    "<li>a challenge</li>\n",
    "<li>supplemental reading</li>\n",
    "<li>assignment</li>\n",
    "<li>post-lesson quiz</li>\n",
    "</ul>\n",
    "<h2><a id=\"user-content-lessons\" class=\"anchor\" aria-hidden=\"true\" href=\"#lessons\"><svg class=\"octicon octicon-link\" viewBox=\"0 0 16 16\" version=\"1.1\" width=\"16\" height=\"16\" aria-hidden=\"true\"><path fill-rule=\"evenodd\" d=\"M7.775 3.275a.75.75 0 001.06 1.06l1.25-1.25a2 2 0 112.83 2.83l-2.5 2.5a2 2 0 01-2.83 0 .75.75 0 00-1.06 1.06 3.5 3.5 0 004.95 0l2.5-2.5a3.5 3.5 0 00-4.95-4.95l-1.25 1.25zm-4.69 9.64a2 2 0 010-2.83l2.5-2.5a2 2 0 012.83 0 .75.75 0 001.06-1.06 3.5 3.5 0 00-4.95 0l-2.5 2.5a3.5 3.5 0 004.95 4.95l1.25-1.25a.75.75 0 00-1.06-1.06l-1.25 1.25a2 2 0 01-2.83 0z\"></path></svg></a>Lessons</h2>\n"
   ]
  },
  {
   "cell_type": "code",
   "execution_count": 66,
   "metadata": {},
   "outputs": [],
   "source": [
    "soup = acquire.make_soup('https://towardsdatascience.com/i-scraped-more-than-1k-top-machine-learning-github-profiles-and-this-is-what-i-found-1ab4fb0c0474')"
   ]
  },
  {
   "cell_type": "code",
   "execution_count": 67,
   "metadata": {},
   "outputs": [
    {
     "data": {
      "text/plain": [
       "\"I Scraped more than 1k Top Machine Learning Github Profiles and this is what I Found | by Khuyen Tran | Towards Data ScienceGet startedOpen in app496K Followers·AboutFollowGet startedI Scraped more than 1k Top Machine Learning Github Profiles and this is what I FoundGain Insights from Top Machine Learning Profiles on GithubKhuyen TranJul 3·7 min readMotivationWhen searching the keyword “machine learning” on Github, I found 246,632 machine learning repositories. Since these are top repositories in machine learning, I expect the owners and the contributors of these repositories to be experts or competent in machine learning. Thus, I decided to extract the profiles of these users to gain some interesting insights into their background as well as statistics.Photo by Markus Winkler on UnsplashMy Method for ScrapingToolsTo scrape, I use three tools:Beautiful Soup to extract the URLs of all the repositories under the machine learning tag. Beautiful Soup is a Python library that makes it extremely easy to scrape data from websites. If you are not aware of Beautiful Soup, I wrote a tutorial on how to scrape with Beautiful Soup in this article.Detailed Tutorials for Beginners: Web Scrape Movie Database from Multiple Pages with Beautiful SoupYou probably heard about Beautiful Soup. But what will you do if the tag of the data you want to access is not specific…medium.comPyGithub to extract the information about the users. PyGithub is a Python library to use the Github API v3. With it, you can manage your Github resources (repositories, user profiles, organizations, etc.) from Python scripts.Requests to extract the information about the repositories and the links to contributors’ profiles.MethodsI scrape the owners as well as the top 30 contributors of the top 90 repositories that pop up in the searchBy removing duplicates as well as removing the profiles that are organizations like udacity, I obtain a list of 1208 users. For each user, I scrape the 20 data points as listed belownew_profile.info()Specifically, the first 13 data points are obtained from hereThe rest of the data points are obtained from the repositories (excluding forked repositories) of a user:total_stars is the total number of stars of all repositoriesmax_star is the maximum star among all repositoriesforks is the total number of forks of all repositoriesdescriptions are the descriptions from all repository of a user of all repositoriescontribution is the number of contribution within last yearVisualize the DataBar graphsAfter cleaning the data, it comes to the fun part: data visualization. Visualizing the data can give us many insights about the data. I use Plotly for its ease to create interactive plotsThe graph is hard to see because of the long tail of users with followers below 100. We can zoom in the left-most portion of the graph to have a better view of the graph.As we can see, llSourcell (Siraj Raval) gets the majority of the followers (36261). The next user gets about 1/3 followers of what llSourcell has (12682).We can do further analysis to determine what percentage of followers top 1% of users get>>> top_n = int(len(top_followers) * 0.01)12>>> sum(top_followers.iloc[0: top_n,:].loc[:, 'followers'])/sum(top_followers.followers)0.412930758644086071% of the top users get 41% of the followers!The same patterns with other data points such as total_stars, max_star, forks. To have a better look at these columns, we will change the y-axis of these features to a logarithmic scale. contribution’s y-axis is not changed.These graphs are similar to Zipf’s law, where statistical distribution in certain data sets, such as words in a linguistic corpus, in which the frequencies of certain words are inversely proportional to their ranks.For example, the most common word in English is “the,” which appears about one-tenth of the time in a typical text even though it is not as important as other words.We see Zipf’s law a lot in other rankings such as population ranks of cities in various counties, income rankings, ranks of a number of people purchasing a book, etc. Now we see this pattern again in Github data.CorrelationBut what are the relationships between these data points? Is there a strong relationship between them? I use scatter_matrix to get a big picture of the correlation among these data points.The data points tend to cluster around the left bottom axis because the majority of the users’ data points lie in this range. There is a strong positive relationship betweenMaximum number of stars and the total number of stars (0.939)Number of forks (from others) and the total number of stars (0.929)The number of forks and the number of followers (0.774)The number of followers and the total number of stars (0.632)LanguagesWhat are the favorite languages of the top machine learning users? What is the percentage of Python, Jupyter Notebook, C, R? We could use a bar chart to find out. To have a better look at the most popular languages, we remove languages that below the count of 10From the bar chart above, we have the ranking of languages among machine learning users:PythonJavaScriptHTMLJupyter NotebookShell and so onHireableWe use Altair to visualize the percentage of users listing themself as hireableLocationsTo get a sense of where the users are in the world, our next task is to visualize the locations of users. We will use the locations obtained from 31% of users who show their location. Start with extracting a list of locations from the df and locating them with geopy.geocoders.NominatimThen use Plotly’s scatter_geo to create a map!Zoom in to see more details of the locations of all the users.Word Clouds of Descriptions and BiosOur data also includes the bios of the users as well as all the descriptions of their repositories. We will use these to answer the questions: what are their main focuses and backgrounds.Generating Word Clouds could give us a big picture of the words and their frequency using in the descriptions and bios. And creating word clouds with Python cannot be easier with WordCloud!Make word clouds with bioThe keywords look like what we expect to see from machine learning users.Share your findingsWe have been collecting the plots on the list. It is time to create a report and share what you found! Datapane is an ideal tool for this.Now we have all the plots that we created in this article on a website hosted by Datapane and ready to share!ConclusionThe data is obtained from the users and contributors of the first 90 best match repositories in the machine learning keyword. Thus, this data does not guarantee to gather all the top machine learning users in Github.But I hope you could use this article as the guide or inspiration to scrape your own data and visualize it. You will be most likely surprised by what you found. Data science is impactful and interesting when you can use your knowledge to analyze things around you.Feel free to fork and play with the code for this article in this Github repo.I like to write about basic data science concepts and play with different algorithms and data science tools. You could connect with me on LinkedIn and Twitter. Follow me on Medium or sign up for my newsletterto stay informed with my latest data science articles like these:How to Organize your Data Science Articles with GithubOverwhelmed by New Information? Now you can Keep Track and Create Customized Notes for your Articles with Easetowardsdatascience.comIntroduction to Datapane: A Python Library to Build Interactive ReportsSimple Framework to Create Beautiful Reports and Share your Analysis Results with your Teamtowardsdatascience.comHow to Create Interactive Plots with AltairLeverage your Data Analysis in 5 Simple Lines of Python Codestowardsdatascience.comHow to Leverage Visual Studio Code for your Data Science ProjectsIt is not until Discovering a New Effective Method that we Realize how Inefficient we weretowardsdatascience.comHow to Learn Non-linear Dataset with Support Vector MachinesAn Introduction to Support Vector Machine and how to Use it for Non-Linear Datasettowardsdatascience.comWritten byKhuyen TranData science intern and mathematics student. Constantly hone my data science workflow through experiments & writing https://www.linkedin.com/in/khuyen-tran-1401Follow679 4 Sign up for The Daily PickBy Towards Data ScienceHands-on real-world examples, research,  tutorials, and cutting-edge techniques delivered Monday to Thursday. Make learning your daily ritual.\\xa0Take a lookGet this newsletterBy signing up, you will create a Medium account if you don’t already have one. Review our Privacy Policy for more information about our privacy practices.Check your inboxMedium sent you an email at  to complete your subscription.679\\xa0679\\xa04 Data VisualizationData ScienceGithubScrapingData AnalysisMore from Towards Data ScienceFollowA Medium publication sharing concepts, ideas, and codes.Read more from Towards Data ScienceMore From MediumWhat to Learn to Become a Data Scientist in 2021Rebecca Vickery in Towards Data ScienceData science… without any data?!Cassie Kozyrkov in Towards Data ScienceUnderstand O.O.P. in Python with One ArticleJulian Herrera in Towards Data ScienceHow to get an amazing TerminalMartin Thoma in Towards Data Science6 Things About Data Science that Employers Don’t Want You to KnowTerence S in Towards Data ScienceHow to do visualization using python from scratchSharan Kumar Ravindran in Towards Data ScienceData Scientist vs Business Analyst. Here’s the Difference.Matt Przybyla in Towards Data ScienceAn Ultimate Guide to Time Series Analysis in PandasRashida Nasrin Sucky in Towards Data ScienceAboutHelpLegalGet the Medium app\\n\\n\\n\\n\\n\\n\\n\\n\\n\\n\\n\\n\\n\\n\\n\\n\\n\\n\\n\\n\\n\\n\\n\\n\\n\""
      ]
     },
     "execution_count": 67,
     "metadata": {},
     "output_type": "execute_result"
    }
   ],
   "source": [
    "soup.text"
   ]
  },
  {
   "cell_type": "code",
   "execution_count": null,
   "metadata": {},
   "outputs": [],
   "source": []
  }
 ],
 "metadata": {
  "kernelspec": {
   "display_name": "Python 3",
   "language": "python",
   "name": "python3"
  },
  "language_info": {
   "codemirror_mode": {
    "name": "ipython",
    "version": 3
   },
   "file_extension": ".py",
   "mimetype": "text/x-python",
   "name": "python",
   "nbconvert_exporter": "python",
   "pygments_lexer": "ipython3",
   "version": "3.8.5"
  }
 },
 "nbformat": 4,
 "nbformat_minor": 4
}
